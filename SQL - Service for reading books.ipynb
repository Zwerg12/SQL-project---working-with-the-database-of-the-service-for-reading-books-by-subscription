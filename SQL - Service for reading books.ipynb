{
 "cells": [
  {
   "cell_type": "markdown",
   "metadata": {},
   "source": [
    "##### Подключение к базе данных"
   ]
  },
  {
   "cell_type": "code",
   "execution_count": 1,
   "metadata": {},
   "outputs": [
    {
     "name": "stdout",
     "output_type": "stream",
     "text": [
      "Defaulting to user installation because normal site-packages is not writeable\n",
      "Requirement already satisfied: psycopg2-binary in /opt/conda/lib/python3.7/site-packages (2.8.4)\n",
      "Note: you may need to restart the kernel to use updated packages.\n"
     ]
    }
   ],
   "source": [
    "pip install psycopg2-binary"
   ]
  },
  {
   "cell_type": "code",
   "execution_count": 2,
   "metadata": {},
   "outputs": [],
   "source": [
    "import pandas as pd\n",
    "from sqlalchemy import create_engine\n",
    "\n",
    "db_config = {'user': '*****', \n",
    " 'pwd': '****',\n",
    " 'host': '****',\n",
    " 'port': ****, \n",
    " 'db': '****'} \n",
    "connection_string = 'postgresql://{}:{}@{}:{}/{}'.format(db_config['user'],\n",
    " db_config['pwd'],\n",
    " db_config['host'],\n",
    " db_config['port'],\n",
    " db_config['db'])\n",
    "\n",
    "engine = create_engine(connection_string, connect_args={'sslmode':'require'})"
   ]
  },
  {
   "cell_type": "markdown",
   "metadata": {},
   "source": [
    "##### Загрузка таблицы books"
   ]
  },
  {
   "cell_type": "code",
   "execution_count": 3,
   "metadata": {},
   "outputs": [
    {
     "data": {
      "text/html": [
       "<div>\n",
       "<style scoped>\n",
       "    .dataframe tbody tr th:only-of-type {\n",
       "        vertical-align: middle;\n",
       "    }\n",
       "\n",
       "    .dataframe tbody tr th {\n",
       "        vertical-align: top;\n",
       "    }\n",
       "\n",
       "    .dataframe thead th {\n",
       "        text-align: right;\n",
       "    }\n",
       "</style>\n",
       "<table border=\"1\" class=\"dataframe\">\n",
       "  <thead>\n",
       "    <tr style=\"text-align: right;\">\n",
       "      <th></th>\n",
       "      <th>book_id</th>\n",
       "      <th>author_id</th>\n",
       "      <th>title</th>\n",
       "      <th>num_pages</th>\n",
       "      <th>publication_date</th>\n",
       "      <th>publisher_id</th>\n",
       "    </tr>\n",
       "  </thead>\n",
       "  <tbody>\n",
       "    <tr>\n",
       "      <td>0</td>\n",
       "      <td>1</td>\n",
       "      <td>546</td>\n",
       "      <td>'Salem's Lot</td>\n",
       "      <td>594</td>\n",
       "      <td>2005-11-01</td>\n",
       "      <td>93</td>\n",
       "    </tr>\n",
       "    <tr>\n",
       "      <td>1</td>\n",
       "      <td>2</td>\n",
       "      <td>465</td>\n",
       "      <td>1 000 Places to See Before You Die</td>\n",
       "      <td>992</td>\n",
       "      <td>2003-05-22</td>\n",
       "      <td>336</td>\n",
       "    </tr>\n",
       "  </tbody>\n",
       "</table>\n",
       "</div>"
      ],
      "text/plain": [
       "   book_id  author_id                               title  num_pages  \\\n",
       "0        1        546                        'Salem's Lot        594   \n",
       "1        2        465  1 000 Places to See Before You Die        992   \n",
       "\n",
       "  publication_date  publisher_id  \n",
       "0       2005-11-01            93  \n",
       "1       2003-05-22           336  "
      ]
     },
     "execution_count": 3,
     "metadata": {},
     "output_type": "execute_result"
    }
   ],
   "source": [
    "query = '''\n",
    "SELECT *\n",
    "FROM books\n",
    "LIMIT 2\n",
    "'''\n",
    "pd.io.sql.read_sql(query, con = engine)"
   ]
  },
  {
   "cell_type": "markdown",
   "metadata": {},
   "source": [
    "##### Загрузка таблицы authors"
   ]
  },
  {
   "cell_type": "code",
   "execution_count": 4,
   "metadata": {},
   "outputs": [
    {
     "data": {
      "text/html": [
       "<div>\n",
       "<style scoped>\n",
       "    .dataframe tbody tr th:only-of-type {\n",
       "        vertical-align: middle;\n",
       "    }\n",
       "\n",
       "    .dataframe tbody tr th {\n",
       "        vertical-align: top;\n",
       "    }\n",
       "\n",
       "    .dataframe thead th {\n",
       "        text-align: right;\n",
       "    }\n",
       "</style>\n",
       "<table border=\"1\" class=\"dataframe\">\n",
       "  <thead>\n",
       "    <tr style=\"text-align: right;\">\n",
       "      <th></th>\n",
       "      <th>author_id</th>\n",
       "      <th>author</th>\n",
       "    </tr>\n",
       "  </thead>\n",
       "  <tbody>\n",
       "    <tr>\n",
       "      <td>0</td>\n",
       "      <td>1</td>\n",
       "      <td>A.S. Byatt</td>\n",
       "    </tr>\n",
       "    <tr>\n",
       "      <td>1</td>\n",
       "      <td>2</td>\n",
       "      <td>Aesop/Laura Harris/Laura Gibbs</td>\n",
       "    </tr>\n",
       "  </tbody>\n",
       "</table>\n",
       "</div>"
      ],
      "text/plain": [
       "   author_id                          author\n",
       "0          1                      A.S. Byatt\n",
       "1          2  Aesop/Laura Harris/Laura Gibbs"
      ]
     },
     "execution_count": 4,
     "metadata": {},
     "output_type": "execute_result"
    }
   ],
   "source": [
    "query = '''\n",
    "SELECT *\n",
    "FROM authors\n",
    "LIMIT 2\n",
    "'''\n",
    "pd.io.sql.read_sql(query, con = engine)"
   ]
  },
  {
   "cell_type": "markdown",
   "metadata": {},
   "source": [
    "##### Загрузка таблицы publishers"
   ]
  },
  {
   "cell_type": "code",
   "execution_count": 5,
   "metadata": {},
   "outputs": [
    {
     "data": {
      "text/html": [
       "<div>\n",
       "<style scoped>\n",
       "    .dataframe tbody tr th:only-of-type {\n",
       "        vertical-align: middle;\n",
       "    }\n",
       "\n",
       "    .dataframe tbody tr th {\n",
       "        vertical-align: top;\n",
       "    }\n",
       "\n",
       "    .dataframe thead th {\n",
       "        text-align: right;\n",
       "    }\n",
       "</style>\n",
       "<table border=\"1\" class=\"dataframe\">\n",
       "  <thead>\n",
       "    <tr style=\"text-align: right;\">\n",
       "      <th></th>\n",
       "      <th>publisher_id</th>\n",
       "      <th>publisher</th>\n",
       "    </tr>\n",
       "  </thead>\n",
       "  <tbody>\n",
       "    <tr>\n",
       "      <td>0</td>\n",
       "      <td>1</td>\n",
       "      <td>Ace</td>\n",
       "    </tr>\n",
       "    <tr>\n",
       "      <td>1</td>\n",
       "      <td>2</td>\n",
       "      <td>Ace Book</td>\n",
       "    </tr>\n",
       "  </tbody>\n",
       "</table>\n",
       "</div>"
      ],
      "text/plain": [
       "   publisher_id publisher\n",
       "0             1       Ace\n",
       "1             2  Ace Book"
      ]
     },
     "execution_count": 5,
     "metadata": {},
     "output_type": "execute_result"
    }
   ],
   "source": [
    "query = '''\n",
    "SELECT *\n",
    "FROM publishers\n",
    "LIMIT 2\n",
    "'''\n",
    "pd.io.sql.read_sql(query, con = engine)"
   ]
  },
  {
   "cell_type": "markdown",
   "metadata": {},
   "source": [
    "##### Загрузка таблицы ratings"
   ]
  },
  {
   "cell_type": "code",
   "execution_count": 6,
   "metadata": {},
   "outputs": [
    {
     "data": {
      "text/html": [
       "<div>\n",
       "<style scoped>\n",
       "    .dataframe tbody tr th:only-of-type {\n",
       "        vertical-align: middle;\n",
       "    }\n",
       "\n",
       "    .dataframe tbody tr th {\n",
       "        vertical-align: top;\n",
       "    }\n",
       "\n",
       "    .dataframe thead th {\n",
       "        text-align: right;\n",
       "    }\n",
       "</style>\n",
       "<table border=\"1\" class=\"dataframe\">\n",
       "  <thead>\n",
       "    <tr style=\"text-align: right;\">\n",
       "      <th></th>\n",
       "      <th>rating_id</th>\n",
       "      <th>book_id</th>\n",
       "      <th>username</th>\n",
       "      <th>rating</th>\n",
       "    </tr>\n",
       "  </thead>\n",
       "  <tbody>\n",
       "    <tr>\n",
       "      <td>0</td>\n",
       "      <td>1</td>\n",
       "      <td>1</td>\n",
       "      <td>ryanfranco</td>\n",
       "      <td>4</td>\n",
       "    </tr>\n",
       "    <tr>\n",
       "      <td>1</td>\n",
       "      <td>2</td>\n",
       "      <td>1</td>\n",
       "      <td>grantpatricia</td>\n",
       "      <td>2</td>\n",
       "    </tr>\n",
       "  </tbody>\n",
       "</table>\n",
       "</div>"
      ],
      "text/plain": [
       "   rating_id  book_id       username  rating\n",
       "0          1        1     ryanfranco       4\n",
       "1          2        1  grantpatricia       2"
      ]
     },
     "execution_count": 6,
     "metadata": {},
     "output_type": "execute_result"
    }
   ],
   "source": [
    "query = '''\n",
    "SELECT *\n",
    "FROM ratings\n",
    "LIMIT 2\n",
    "'''\n",
    "pd.io.sql.read_sql(query, con = engine)"
   ]
  },
  {
   "cell_type": "markdown",
   "metadata": {},
   "source": [
    "##### Загрузка таблицы reviews"
   ]
  },
  {
   "cell_type": "code",
   "execution_count": 7,
   "metadata": {},
   "outputs": [
    {
     "data": {
      "text/html": [
       "<div>\n",
       "<style scoped>\n",
       "    .dataframe tbody tr th:only-of-type {\n",
       "        vertical-align: middle;\n",
       "    }\n",
       "\n",
       "    .dataframe tbody tr th {\n",
       "        vertical-align: top;\n",
       "    }\n",
       "\n",
       "    .dataframe thead th {\n",
       "        text-align: right;\n",
       "    }\n",
       "</style>\n",
       "<table border=\"1\" class=\"dataframe\">\n",
       "  <thead>\n",
       "    <tr style=\"text-align: right;\">\n",
       "      <th></th>\n",
       "      <th>review_id</th>\n",
       "      <th>book_id</th>\n",
       "      <th>username</th>\n",
       "      <th>text</th>\n",
       "    </tr>\n",
       "  </thead>\n",
       "  <tbody>\n",
       "    <tr>\n",
       "      <td>0</td>\n",
       "      <td>1</td>\n",
       "      <td>1</td>\n",
       "      <td>brandtandrea</td>\n",
       "      <td>Mention society tell send professor analysis. ...</td>\n",
       "    </tr>\n",
       "    <tr>\n",
       "      <td>1</td>\n",
       "      <td>2</td>\n",
       "      <td>1</td>\n",
       "      <td>ryanfranco</td>\n",
       "      <td>Foot glass pretty audience hit themselves. Amo...</td>\n",
       "    </tr>\n",
       "  </tbody>\n",
       "</table>\n",
       "</div>"
      ],
      "text/plain": [
       "   review_id  book_id      username  \\\n",
       "0          1        1  brandtandrea   \n",
       "1          2        1    ryanfranco   \n",
       "\n",
       "                                                text  \n",
       "0  Mention society tell send professor analysis. ...  \n",
       "1  Foot glass pretty audience hit themselves. Amo...  "
      ]
     },
     "execution_count": 7,
     "metadata": {},
     "output_type": "execute_result"
    }
   ],
   "source": [
    "query = '''\n",
    "SELECT *\n",
    "FROM reviews\n",
    "LIMIT 2\n",
    "'''\n",
    "pd.io.sql.read_sql(query, con = engine)"
   ]
  },
  {
   "cell_type": "markdown",
   "metadata": {},
   "source": [
    "##### Задача 1. Посчитать, сколько книг вышло после 1 января 2000 года"
   ]
  },
  {
   "cell_type": "code",
   "execution_count": 8,
   "metadata": {},
   "outputs": [
    {
     "data": {
      "text/html": [
       "<div>\n",
       "<style scoped>\n",
       "    .dataframe tbody tr th:only-of-type {\n",
       "        vertical-align: middle;\n",
       "    }\n",
       "\n",
       "    .dataframe tbody tr th {\n",
       "        vertical-align: top;\n",
       "    }\n",
       "\n",
       "    .dataframe thead th {\n",
       "        text-align: right;\n",
       "    }\n",
       "</style>\n",
       "<table border=\"1\" class=\"dataframe\">\n",
       "  <thead>\n",
       "    <tr style=\"text-align: right;\">\n",
       "      <th></th>\n",
       "      <th>count</th>\n",
       "    </tr>\n",
       "  </thead>\n",
       "  <tbody>\n",
       "    <tr>\n",
       "      <td>0</td>\n",
       "      <td>819</td>\n",
       "    </tr>\n",
       "  </tbody>\n",
       "</table>\n",
       "</div>"
      ],
      "text/plain": [
       "   count\n",
       "0    819"
      ]
     },
     "execution_count": 8,
     "metadata": {},
     "output_type": "execute_result"
    }
   ],
   "source": [
    "query = '''\n",
    "SELECT COUNT(DISTINCT book_id)\n",
    "FROM books\n",
    "WHERE publication_date > '2000-01-01'\n",
    "LIMIT 2\n",
    "'''\n",
    "pd.io.sql.read_sql(query, con = engine)"
   ]
  },
  {
   "cell_type": "markdown",
   "metadata": {},
   "source": [
    "Вывод: 819 книг вышло после 1 января 2000 года"
   ]
  },
  {
   "cell_type": "markdown",
   "metadata": {},
   "source": [
    "##### Задача 2. Для каждой книги посчитать количество обзоров и среднюю оценку"
   ]
  },
  {
   "cell_type": "code",
   "execution_count": 9,
   "metadata": {},
   "outputs": [
    {
     "data": {
      "text/html": [
       "<div>\n",
       "<style scoped>\n",
       "    .dataframe tbody tr th:only-of-type {\n",
       "        vertical-align: middle;\n",
       "    }\n",
       "\n",
       "    .dataframe tbody tr th {\n",
       "        vertical-align: top;\n",
       "    }\n",
       "\n",
       "    .dataframe thead th {\n",
       "        text-align: right;\n",
       "    }\n",
       "</style>\n",
       "<table border=\"1\" class=\"dataframe\">\n",
       "  <thead>\n",
       "    <tr style=\"text-align: right;\">\n",
       "      <th></th>\n",
       "      <th>book_id</th>\n",
       "      <th>title</th>\n",
       "      <th>review_amount</th>\n",
       "      <th>average_rate</th>\n",
       "    </tr>\n",
       "  </thead>\n",
       "  <tbody>\n",
       "    <tr>\n",
       "      <td>0</td>\n",
       "      <td>948</td>\n",
       "      <td>Twilight (Twilight  #1)</td>\n",
       "      <td>7</td>\n",
       "      <td>3.662500</td>\n",
       "    </tr>\n",
       "    <tr>\n",
       "      <td>1</td>\n",
       "      <td>963</td>\n",
       "      <td>Water for Elephants</td>\n",
       "      <td>6</td>\n",
       "      <td>3.977273</td>\n",
       "    </tr>\n",
       "    <tr>\n",
       "      <td>2</td>\n",
       "      <td>734</td>\n",
       "      <td>The Glass Castle</td>\n",
       "      <td>6</td>\n",
       "      <td>4.206897</td>\n",
       "    </tr>\n",
       "    <tr>\n",
       "      <td>3</td>\n",
       "      <td>302</td>\n",
       "      <td>Harry Potter and the Prisoner of Azkaban (Harr...</td>\n",
       "      <td>6</td>\n",
       "      <td>4.414634</td>\n",
       "    </tr>\n",
       "    <tr>\n",
       "      <td>4</td>\n",
       "      <td>695</td>\n",
       "      <td>The Curious Incident of the Dog in the Night-Time</td>\n",
       "      <td>6</td>\n",
       "      <td>4.081081</td>\n",
       "    </tr>\n",
       "    <tr>\n",
       "      <td>...</td>\n",
       "      <td>...</td>\n",
       "      <td>...</td>\n",
       "      <td>...</td>\n",
       "      <td>...</td>\n",
       "    </tr>\n",
       "    <tr>\n",
       "      <td>995</td>\n",
       "      <td>83</td>\n",
       "      <td>Anne Rice's The Vampire Lestat: A Graphic Novel</td>\n",
       "      <td>0</td>\n",
       "      <td>3.666667</td>\n",
       "    </tr>\n",
       "    <tr>\n",
       "      <td>996</td>\n",
       "      <td>808</td>\n",
       "      <td>The Natural Way to Draw</td>\n",
       "      <td>0</td>\n",
       "      <td>3.000000</td>\n",
       "    </tr>\n",
       "    <tr>\n",
       "      <td>997</td>\n",
       "      <td>672</td>\n",
       "      <td>The Cat in the Hat and Other Dr. Seuss Favorites</td>\n",
       "      <td>0</td>\n",
       "      <td>5.000000</td>\n",
       "    </tr>\n",
       "    <tr>\n",
       "      <td>998</td>\n",
       "      <td>221</td>\n",
       "      <td>Essential Tales and Poems</td>\n",
       "      <td>0</td>\n",
       "      <td>4.000000</td>\n",
       "    </tr>\n",
       "    <tr>\n",
       "      <td>999</td>\n",
       "      <td>191</td>\n",
       "      <td>Disney's Beauty and the Beast (A Little Golden...</td>\n",
       "      <td>0</td>\n",
       "      <td>4.000000</td>\n",
       "    </tr>\n",
       "  </tbody>\n",
       "</table>\n",
       "<p>1000 rows × 4 columns</p>\n",
       "</div>"
      ],
      "text/plain": [
       "     book_id                                              title  \\\n",
       "0        948                            Twilight (Twilight  #1)   \n",
       "1        963                                Water for Elephants   \n",
       "2        734                                   The Glass Castle   \n",
       "3        302  Harry Potter and the Prisoner of Azkaban (Harr...   \n",
       "4        695  The Curious Incident of the Dog in the Night-Time   \n",
       "..       ...                                                ...   \n",
       "995       83    Anne Rice's The Vampire Lestat: A Graphic Novel   \n",
       "996      808                            The Natural Way to Draw   \n",
       "997      672   The Cat in the Hat and Other Dr. Seuss Favorites   \n",
       "998      221                          Essential Tales and Poems   \n",
       "999      191  Disney's Beauty and the Beast (A Little Golden...   \n",
       "\n",
       "     review_amount  average_rate  \n",
       "0                7      3.662500  \n",
       "1                6      3.977273  \n",
       "2                6      4.206897  \n",
       "3                6      4.414634  \n",
       "4                6      4.081081  \n",
       "..             ...           ...  \n",
       "995              0      3.666667  \n",
       "996              0      3.000000  \n",
       "997              0      5.000000  \n",
       "998              0      4.000000  \n",
       "999              0      4.000000  \n",
       "\n",
       "[1000 rows x 4 columns]"
      ]
     },
     "execution_count": 9,
     "metadata": {},
     "output_type": "execute_result"
    }
   ],
   "source": [
    "query = '''\n",
    "SELECT \n",
    "books.book_id,\n",
    "title,\n",
    "COUNT(DISTINCT review_id) AS review_amount,\n",
    "AVG(rating) AS average_rate\n",
    "FROM books\n",
    "LEFT JOIN ratings ON ratings.book_id=books.book_id\n",
    "LEFT JOIN reviews ON reviews.book_id=books.book_id\n",
    "GROUP BY\n",
    "books.book_id,\n",
    "title\n",
    "ORDER BY\n",
    "review_amount DESC\n",
    "'''\n",
    "pd.io.sql.read_sql(query, con = engine)"
   ]
  },
  {
   "cell_type": "markdown",
   "metadata": {},
   "source": [
    "Вывод: для наглядности отсортировали книги по количеству обзоров; самое большое количество обзоров - у книги \"Сумерки\""
   ]
  },
  {
   "cell_type": "markdown",
   "metadata": {},
   "source": [
    "##### Задача 3. Определить издательство, которое выпустило наибольшее число книг толще 50 страниц — так мы исключим из анализа брошюры"
   ]
  },
  {
   "cell_type": "code",
   "execution_count": 10,
   "metadata": {},
   "outputs": [
    {
     "data": {
      "text/html": [
       "<div>\n",
       "<style scoped>\n",
       "    .dataframe tbody tr th:only-of-type {\n",
       "        vertical-align: middle;\n",
       "    }\n",
       "\n",
       "    .dataframe tbody tr th {\n",
       "        vertical-align: top;\n",
       "    }\n",
       "\n",
       "    .dataframe thead th {\n",
       "        text-align: right;\n",
       "    }\n",
       "</style>\n",
       "<table border=\"1\" class=\"dataframe\">\n",
       "  <thead>\n",
       "    <tr style=\"text-align: right;\">\n",
       "      <th></th>\n",
       "      <th>publisher</th>\n",
       "      <th>count</th>\n",
       "    </tr>\n",
       "  </thead>\n",
       "  <tbody>\n",
       "    <tr>\n",
       "      <td>0</td>\n",
       "      <td>Penguin Books</td>\n",
       "      <td>42</td>\n",
       "    </tr>\n",
       "  </tbody>\n",
       "</table>\n",
       "</div>"
      ],
      "text/plain": [
       "       publisher  count\n",
       "0  Penguin Books     42"
      ]
     },
     "execution_count": 10,
     "metadata": {},
     "output_type": "execute_result"
    }
   ],
   "source": [
    "query = '''\n",
    "SELECT \n",
    "publishers.publisher,\n",
    "COUNT(book_id)\n",
    "FROM books\n",
    "LEFT JOIN publishers ON publishers.publisher_id=books.publisher_id\n",
    "WHERE num_pages > 50\n",
    "GROUP BY\n",
    "publisher\n",
    "ORDER BY \n",
    "COUNT(book_id) DESC\n",
    "LIMIT 1\n",
    "'''\n",
    "pd.io.sql.read_sql(query, con = engine)"
   ]
  },
  {
   "cell_type": "markdown",
   "metadata": {},
   "source": [
    "Вывод: издательство \"Penguin Books\" выпустило наибольшее число книг толще 50 страниц - 42 книги"
   ]
  },
  {
   "cell_type": "markdown",
   "metadata": {},
   "source": [
    "##### Задача 4. Определить автора с самой высокой средней оценкой книг — учитываем только книги с 50 и более оценками"
   ]
  },
  {
   "cell_type": "code",
   "execution_count": 11,
   "metadata": {},
   "outputs": [
    {
     "data": {
      "text/html": [
       "<div>\n",
       "<style scoped>\n",
       "    .dataframe tbody tr th:only-of-type {\n",
       "        vertical-align: middle;\n",
       "    }\n",
       "\n",
       "    .dataframe tbody tr th {\n",
       "        vertical-align: top;\n",
       "    }\n",
       "\n",
       "    .dataframe thead th {\n",
       "        text-align: right;\n",
       "    }\n",
       "</style>\n",
       "<table border=\"1\" class=\"dataframe\">\n",
       "  <thead>\n",
       "    <tr style=\"text-align: right;\">\n",
       "      <th></th>\n",
       "      <th>author</th>\n",
       "      <th>average_rate</th>\n",
       "      <th>count</th>\n",
       "    </tr>\n",
       "  </thead>\n",
       "  <tbody>\n",
       "    <tr>\n",
       "      <td>0</td>\n",
       "      <td>J.K. Rowling/Mary GrandPré</td>\n",
       "      <td>4.288462</td>\n",
       "      <td>312</td>\n",
       "    </tr>\n",
       "  </tbody>\n",
       "</table>\n",
       "</div>"
      ],
      "text/plain": [
       "                       author  average_rate  count\n",
       "0  J.K. Rowling/Mary GrandPré      4.288462    312"
      ]
     },
     "execution_count": 11,
     "metadata": {},
     "output_type": "execute_result"
    }
   ],
   "source": [
    "query = '''\n",
    "SELECT \n",
    "author,\n",
    "AVG(rating) AS average_rate,\n",
    "COUNT(rating)\n",
    "FROM books\n",
    "LEFT JOIN ratings ON ratings.book_id=books.book_id\n",
    "LEFT JOIN authors ON authors.author_id=books.author_id\n",
    "GROUP BY\n",
    "author\n",
    "HAVING COUNT(rating) >=50 \n",
    "ORDER BY \n",
    "COUNT(rating) DESC\n",
    "LIMIT 1\n",
    "'''\n",
    "pd.io.sql.read_sql(query, con = engine)"
   ]
  },
  {
   "cell_type": "markdown",
   "metadata": {},
   "source": [
    "Вывод: Джоан Роулинг - автор с самой высокой средней оценкой книг (учитывая только книги с 50 и более оценками)"
   ]
  },
  {
   "cell_type": "markdown",
   "metadata": {},
   "source": [
    "##### Задача 5. Посчитать среднее количество обзоров от пользователей, которые поставили больше 50 оценок"
   ]
  },
  {
   "cell_type": "code",
   "execution_count": 12,
   "metadata": {},
   "outputs": [
    {
     "data": {
      "text/html": [
       "<div>\n",
       "<style scoped>\n",
       "    .dataframe tbody tr th:only-of-type {\n",
       "        vertical-align: middle;\n",
       "    }\n",
       "\n",
       "    .dataframe tbody tr th {\n",
       "        vertical-align: top;\n",
       "    }\n",
       "\n",
       "    .dataframe thead th {\n",
       "        text-align: right;\n",
       "    }\n",
       "</style>\n",
       "<table border=\"1\" class=\"dataframe\">\n",
       "  <thead>\n",
       "    <tr style=\"text-align: right;\">\n",
       "      <th></th>\n",
       "      <th>avg</th>\n",
       "    </tr>\n",
       "  </thead>\n",
       "  <tbody>\n",
       "    <tr>\n",
       "      <td>0</td>\n",
       "      <td>17.628205</td>\n",
       "    </tr>\n",
       "  </tbody>\n",
       "</table>\n",
       "</div>"
      ],
      "text/plain": [
       "         avg\n",
       "0  17.628205"
      ]
     },
     "execution_count": 12,
     "metadata": {},
     "output_type": "execute_result"
    }
   ],
   "source": [
    "query = '''\n",
    "WITH temp AS (\n",
    "SELECT \n",
    "    reviews.username,\n",
    "    COUNT(rating) AS rating_amount,\n",
    "    COUNT(DISTINCT reviews.review_id) AS review_amount\n",
    "FROM\n",
    "    ratings\n",
    "LEFT JOIN reviews ON reviews.book_id=ratings.book_id\n",
    "GROUP BY\n",
    "      reviews.username\n",
    "HAVING COUNT(rating) > 50)\n",
    "SELECT \n",
    "    AVG(review_amount)\n",
    "FROM temp\n",
    "'''\n",
    "pd.io.sql.read_sql(query, con = engine)"
   ]
  },
  {
   "cell_type": "markdown",
   "metadata": {},
   "source": [
    "Вывод: в среднем 17 обзоров"
   ]
  },
  {
   "cell_type": "code",
   "execution_count": 13,
   "metadata": {},
   "outputs": [
    {
     "data": {
      "text/html": [
       "<div>\n",
       "<style scoped>\n",
       "    .dataframe tbody tr th:only-of-type {\n",
       "        vertical-align: middle;\n",
       "    }\n",
       "\n",
       "    .dataframe tbody tr th {\n",
       "        vertical-align: top;\n",
       "    }\n",
       "\n",
       "    .dataframe thead th {\n",
       "        text-align: right;\n",
       "    }\n",
       "</style>\n",
       "<table border=\"1\" class=\"dataframe\">\n",
       "  <thead>\n",
       "    <tr style=\"text-align: right;\">\n",
       "      <th></th>\n",
       "      <th>round</th>\n",
       "    </tr>\n",
       "  </thead>\n",
       "  <tbody>\n",
       "    <tr>\n",
       "      <td>0</td>\n",
       "      <td>24.33</td>\n",
       "    </tr>\n",
       "  </tbody>\n",
       "</table>\n",
       "</div>"
      ],
      "text/plain": [
       "   round\n",
       "0  24.33"
      ]
     },
     "execution_count": 13,
     "metadata": {},
     "output_type": "execute_result"
    }
   ],
   "source": [
    "query = '''\n",
    "WITH temp AS\n",
    "(SELECT\n",
    "    username,\n",
    "    COUNT(review_id) AS reviews_amount \n",
    "FROM\n",
    "    reviews\n",
    "GROUP BY\n",
    "username\n",
    "HAVING username\n",
    "IN\n",
    "(SELECT\n",
    "username\n",
    "FROM\n",
    "ratings\n",
    "GROUP BY\n",
    "username\n",
    "HAVING COUNT(rating) > 50))\n",
    "SELECT round(AVG(reviews_amount),2)\n",
    "FROM\n",
    "temp;\n",
    "'''\n",
    "pd.io.sql.read_sql(query, con = engine)"
   ]
  }
 ],
 "metadata": {
  "ExecuteTimeLog": [
   {
    "duration": 3660,
    "start_time": "2021-06-08T22:56:24.681Z"
   },
   {
    "duration": 778,
    "start_time": "2021-06-08T22:56:28.344Z"
   },
   {
    "duration": 55,
    "start_time": "2021-06-08T22:56:29.124Z"
   },
   {
    "duration": 13,
    "start_time": "2021-06-08T22:56:29.183Z"
   },
   {
    "duration": 14,
    "start_time": "2021-06-08T22:56:29.198Z"
   },
   {
    "duration": 16,
    "start_time": "2021-06-08T22:56:29.214Z"
   },
   {
    "duration": 16,
    "start_time": "2021-06-08T22:56:29.232Z"
   },
   {
    "duration": 13,
    "start_time": "2021-06-08T22:56:29.251Z"
   },
   {
    "duration": 65,
    "start_time": "2021-06-08T22:56:29.267Z"
   },
   {
    "duration": 14,
    "start_time": "2021-06-08T22:56:29.334Z"
   },
   {
    "duration": 17,
    "start_time": "2021-06-08T22:56:29.350Z"
   },
   {
    "duration": 28,
    "start_time": "2021-06-08T22:56:29.369Z"
   },
   {
    "duration": 422,
    "start_time": "2021-06-08T22:56:29.400Z"
   },
   {
    "duration": 15,
    "start_time": "2021-06-08T22:56:52.946Z"
   },
   {
    "duration": 16,
    "start_time": "2021-06-08T22:57:12.107Z"
   },
   {
    "duration": 338,
    "start_time": "2021-06-08T22:57:24.103Z"
   },
   {
    "duration": 338,
    "start_time": "2021-06-08T22:58:00.678Z"
   },
   {
    "duration": 16,
    "start_time": "2021-06-08T22:58:11.927Z"
   },
   {
    "duration": 284,
    "start_time": "2021-06-08T23:05:45.632Z"
   },
   {
    "duration": 277,
    "start_time": "2021-06-08T23:07:28.215Z"
   },
   {
    "duration": 277,
    "start_time": "2021-06-08T23:07:47.862Z"
   },
   {
    "duration": 288,
    "start_time": "2021-06-08T23:09:18.313Z"
   },
   {
    "duration": 285,
    "start_time": "2021-06-08T23:09:52.262Z"
   },
   {
    "duration": 272,
    "start_time": "2021-06-08T23:09:58.416Z"
   },
   {
    "duration": 288,
    "start_time": "2021-06-08T23:10:04.899Z"
   },
   {
    "duration": 289,
    "start_time": "2021-06-08T23:10:12.814Z"
   },
   {
    "duration": 304,
    "start_time": "2021-06-08T23:12:31.242Z"
   },
   {
    "duration": 280,
    "start_time": "2021-06-08T23:13:00.441Z"
   },
   {
    "duration": 278,
    "start_time": "2021-06-08T23:13:43.750Z"
   },
   {
    "duration": 292,
    "start_time": "2021-06-08T23:14:43.464Z"
   },
   {
    "duration": 278,
    "start_time": "2021-06-08T23:14:56.346Z"
   },
   {
    "duration": 282,
    "start_time": "2021-06-08T23:16:13.358Z"
   },
   {
    "duration": 18,
    "start_time": "2021-06-08T23:16:22.386Z"
   },
   {
    "duration": 281,
    "start_time": "2021-06-08T23:17:33.831Z"
   },
   {
    "duration": 282,
    "start_time": "2021-06-08T23:17:51.252Z"
   },
   {
    "duration": 287,
    "start_time": "2021-06-08T23:18:11.957Z"
   },
   {
    "duration": 16,
    "start_time": "2021-06-08T23:21:13.953Z"
   },
   {
    "duration": 297,
    "start_time": "2021-06-08T23:21:54.202Z"
   },
   {
    "duration": 315,
    "start_time": "2021-06-08T23:22:31.312Z"
   },
   {
    "duration": 309,
    "start_time": "2021-06-08T23:22:51.058Z"
   },
   {
    "duration": 309,
    "start_time": "2021-06-08T23:23:09.224Z"
   },
   {
    "duration": 16,
    "start_time": "2021-06-08T23:23:16.944Z"
   },
   {
    "duration": 16,
    "start_time": "2021-06-08T23:24:49.898Z"
   },
   {
    "duration": 305,
    "start_time": "2021-06-08T23:28:24.391Z"
   },
   {
    "duration": 299,
    "start_time": "2021-06-08T23:28:43.688Z"
   },
   {
    "duration": 283,
    "start_time": "2021-06-08T23:28:58.031Z"
   },
   {
    "duration": 316,
    "start_time": "2021-06-08T23:29:04.574Z"
   },
   {
    "duration": 385,
    "start_time": "2021-06-08T23:29:23.787Z"
   },
   {
    "duration": 299,
    "start_time": "2021-06-08T23:30:04.803Z"
   },
   {
    "duration": 298,
    "start_time": "2021-06-08T23:30:29.398Z"
   },
   {
    "duration": 311,
    "start_time": "2021-06-08T23:34:08.488Z"
   },
   {
    "duration": 289,
    "start_time": "2021-06-08T23:35:58.994Z"
   },
   {
    "duration": 298,
    "start_time": "2021-06-08T23:37:01.177Z"
   },
   {
    "duration": 304,
    "start_time": "2021-06-08T23:38:14.962Z"
   },
   {
    "duration": 272,
    "start_time": "2021-06-08T23:38:48.107Z"
   },
   {
    "duration": 283,
    "start_time": "2021-06-08T23:40:37.234Z"
   },
   {
    "duration": 16,
    "start_time": "2021-06-08T23:40:41.477Z"
   },
   {
    "duration": 15,
    "start_time": "2021-06-08T23:40:59.149Z"
   },
   {
    "duration": 269,
    "start_time": "2021-06-08T23:41:25.944Z"
   },
   {
    "duration": 320,
    "start_time": "2021-06-08T23:42:00.198Z"
   },
   {
    "duration": 15,
    "start_time": "2021-06-08T23:42:11.387Z"
   },
   {
    "duration": 292,
    "start_time": "2021-06-08T23:42:54.350Z"
   },
   {
    "duration": 284,
    "start_time": "2021-06-08T23:43:12.782Z"
   },
   {
    "duration": 287,
    "start_time": "2021-06-08T23:45:17.517Z"
   },
   {
    "duration": 284,
    "start_time": "2021-06-08T23:45:58.176Z"
   },
   {
    "duration": 298,
    "start_time": "2021-06-08T23:47:03.201Z"
   },
   {
    "duration": 290,
    "start_time": "2021-06-08T23:47:14.342Z"
   },
   {
    "duration": 299,
    "start_time": "2021-06-08T23:47:30.965Z"
   },
   {
    "duration": 313,
    "start_time": "2021-06-08T23:48:19.854Z"
   },
   {
    "duration": 303,
    "start_time": "2021-06-08T23:49:02.792Z"
   },
   {
    "duration": 282,
    "start_time": "2021-06-08T23:49:38.519Z"
   },
   {
    "duration": 300,
    "start_time": "2021-06-08T23:50:05.602Z"
   },
   {
    "duration": 297,
    "start_time": "2021-06-08T23:51:14.401Z"
   },
   {
    "duration": 286,
    "start_time": "2021-06-08T23:52:24.347Z"
   },
   {
    "duration": 300,
    "start_time": "2021-06-08T23:52:52.529Z"
   },
   {
    "duration": 299,
    "start_time": "2021-06-08T23:53:09.892Z"
   },
   {
    "duration": 299,
    "start_time": "2021-06-08T23:53:17.139Z"
   },
   {
    "duration": 280,
    "start_time": "2021-06-08T23:53:37.655Z"
   },
   {
    "duration": 295,
    "start_time": "2021-06-08T23:53:57.639Z"
   },
   {
    "duration": 328,
    "start_time": "2021-06-08T23:54:05.889Z"
   },
   {
    "duration": 279,
    "start_time": "2021-06-08T23:54:11.805Z"
   },
   {
    "duration": 296,
    "start_time": "2021-06-08T23:55:00.158Z"
   },
   {
    "duration": 313,
    "start_time": "2021-06-08T23:55:10.649Z"
   },
   {
    "duration": 309,
    "start_time": "2021-06-08T23:55:21.154Z"
   },
   {
    "duration": 266,
    "start_time": "2021-06-08T23:55:34.446Z"
   },
   {
    "duration": 319,
    "start_time": "2021-06-08T23:55:52.748Z"
   },
   {
    "duration": 299,
    "start_time": "2021-06-08T23:57:06.806Z"
   },
   {
    "duration": 288,
    "start_time": "2021-06-08T23:57:14.731Z"
   },
   {
    "duration": 279,
    "start_time": "2021-06-08T23:57:24.981Z"
   },
   {
    "duration": 285,
    "start_time": "2021-06-08T23:57:34.689Z"
   },
   {
    "duration": 376,
    "start_time": "2021-06-08T23:57:46.248Z"
   },
   {
    "duration": 295,
    "start_time": "2021-06-08T23:57:56.918Z"
   },
   {
    "duration": 336,
    "start_time": "2021-06-08T23:58:10.147Z"
   },
   {
    "duration": 306,
    "start_time": "2021-06-08T23:58:23.653Z"
   },
   {
    "duration": 281,
    "start_time": "2021-06-08T23:58:40.361Z"
   },
   {
    "duration": 280,
    "start_time": "2021-06-08T23:59:09.722Z"
   },
   {
    "duration": 281,
    "start_time": "2021-06-08T23:59:43.728Z"
   },
   {
    "duration": 273,
    "start_time": "2021-06-08T23:59:52.023Z"
   },
   {
    "duration": 305,
    "start_time": "2021-06-09T00:00:10.921Z"
   },
   {
    "duration": 300,
    "start_time": "2021-06-09T00:00:30.313Z"
   },
   {
    "duration": 274,
    "start_time": "2021-06-09T00:00:36.295Z"
   },
   {
    "duration": 303,
    "start_time": "2021-06-09T00:00:55.608Z"
   },
   {
    "duration": 322,
    "start_time": "2021-06-09T00:01:03.715Z"
   },
   {
    "duration": 301,
    "start_time": "2021-06-09T00:02:48.523Z"
   },
   {
    "duration": 289,
    "start_time": "2021-06-09T00:03:05.396Z"
   },
   {
    "duration": 16,
    "start_time": "2021-06-09T00:03:46.105Z"
   },
   {
    "duration": 280,
    "start_time": "2021-06-09T00:04:31.358Z"
   },
   {
    "duration": 285,
    "start_time": "2021-06-09T00:04:47.215Z"
   },
   {
    "duration": 297,
    "start_time": "2021-06-09T00:06:53.073Z"
   },
   {
    "duration": 311,
    "start_time": "2021-06-09T00:07:18.427Z"
   },
   {
    "duration": 272,
    "start_time": "2021-06-09T00:07:35.868Z"
   },
   {
    "duration": 294,
    "start_time": "2021-06-09T00:08:04.845Z"
   },
   {
    "duration": 274,
    "start_time": "2021-06-09T00:08:19.705Z"
   },
   {
    "duration": 292,
    "start_time": "2021-06-09T00:08:27.176Z"
   },
   {
    "duration": 303,
    "start_time": "2021-06-09T00:09:06.026Z"
   },
   {
    "duration": 16,
    "start_time": "2021-06-09T00:10:12.644Z"
   },
   {
    "duration": 293,
    "start_time": "2021-06-09T00:10:58.269Z"
   },
   {
    "duration": 297,
    "start_time": "2021-06-09T00:11:07.486Z"
   },
   {
    "duration": 357,
    "start_time": "2021-06-09T00:11:15.318Z"
   },
   {
    "duration": 301,
    "start_time": "2021-06-09T00:11:31.085Z"
   },
   {
    "duration": 278,
    "start_time": "2021-06-09T00:11:41.618Z"
   },
   {
    "duration": 302,
    "start_time": "2021-06-09T00:11:58.998Z"
   },
   {
    "duration": 284,
    "start_time": "2021-06-09T00:12:19.122Z"
   },
   {
    "duration": 273,
    "start_time": "2021-06-09T00:12:24.965Z"
   },
   {
    "duration": 283,
    "start_time": "2021-06-09T00:12:28.767Z"
   },
   {
    "duration": 304,
    "start_time": "2021-06-09T00:12:34.513Z"
   },
   {
    "duration": 281,
    "start_time": "2021-06-09T00:12:48.480Z"
   },
   {
    "duration": 276,
    "start_time": "2021-06-09T00:19:14.503Z"
   },
   {
    "duration": 309,
    "start_time": "2021-06-09T00:19:35.985Z"
   },
   {
    "duration": 290,
    "start_time": "2021-06-09T00:19:51.032Z"
   },
   {
    "duration": 295,
    "start_time": "2021-06-09T00:19:57.953Z"
   },
   {
    "duration": 906,
    "start_time": "2021-06-09T00:20:02.864Z"
   },
   {
    "duration": 290,
    "start_time": "2021-06-09T00:20:22.097Z"
   },
   {
    "duration": 304,
    "start_time": "2021-06-09T00:20:29.383Z"
   },
   {
    "duration": 314,
    "start_time": "2021-06-09T00:20:36.490Z"
   },
   {
    "duration": 346,
    "start_time": "2021-06-09T00:20:41.947Z"
   },
   {
    "duration": 329,
    "start_time": "2021-06-09T00:21:04.486Z"
   },
   {
    "duration": 285,
    "start_time": "2021-06-09T00:21:13.351Z"
   },
   {
    "duration": 300,
    "start_time": "2021-06-09T00:21:23.488Z"
   },
   {
    "duration": 382,
    "start_time": "2021-06-09T00:21:31.408Z"
   },
   {
    "duration": 315,
    "start_time": "2021-06-09T00:21:44.408Z"
   },
   {
    "duration": 341,
    "start_time": "2021-06-09T00:22:15.682Z"
   },
   {
    "duration": 310,
    "start_time": "2021-06-09T00:22:32.505Z"
   },
   {
    "duration": 316,
    "start_time": "2021-06-09T00:22:54.289Z"
   },
   {
    "duration": 301,
    "start_time": "2021-06-09T00:23:47.087Z"
   },
   {
    "duration": 294,
    "start_time": "2021-06-09T00:25:25.947Z"
   },
   {
    "duration": 293,
    "start_time": "2021-06-09T00:25:38.508Z"
   },
   {
    "duration": 293,
    "start_time": "2021-06-09T00:25:47.698Z"
   },
   {
    "duration": 291,
    "start_time": "2021-06-09T00:26:10.974Z"
   },
   {
    "duration": 295,
    "start_time": "2021-06-09T00:26:18.249Z"
   },
   {
    "duration": 312,
    "start_time": "2021-06-09T00:26:36.030Z"
   },
   {
    "duration": 289,
    "start_time": "2021-06-09T00:26:41.616Z"
   },
   {
    "duration": 307,
    "start_time": "2021-06-09T00:27:05.900Z"
   },
   {
    "duration": 16,
    "start_time": "2021-06-09T00:27:23.986Z"
   },
   {
    "duration": 382,
    "start_time": "2021-06-09T00:30:17.253Z"
   },
   {
    "duration": 302,
    "start_time": "2021-06-09T00:30:23.679Z"
   },
   {
    "duration": 287,
    "start_time": "2021-06-09T00:31:48.974Z"
   },
   {
    "duration": 285,
    "start_time": "2021-06-09T00:32:00.487Z"
   },
   {
    "duration": 17,
    "start_time": "2021-06-09T00:32:24.635Z"
   },
   {
    "duration": 3018,
    "start_time": "2021-06-09T00:33:14.993Z"
   },
   {
    "duration": 798,
    "start_time": "2021-06-09T00:33:18.015Z"
   },
   {
    "duration": 50,
    "start_time": "2021-06-09T00:33:18.819Z"
   },
   {
    "duration": 13,
    "start_time": "2021-06-09T00:33:18.871Z"
   },
   {
    "duration": 17,
    "start_time": "2021-06-09T00:33:18.887Z"
   },
   {
    "duration": 14,
    "start_time": "2021-06-09T00:33:18.906Z"
   },
   {
    "duration": 14,
    "start_time": "2021-06-09T00:33:18.923Z"
   },
   {
    "duration": 11,
    "start_time": "2021-06-09T00:33:18.940Z"
   },
   {
    "duration": 60,
    "start_time": "2021-06-09T00:33:18.954Z"
   },
   {
    "duration": 15,
    "start_time": "2021-06-09T00:33:19.016Z"
   },
   {
    "duration": 18,
    "start_time": "2021-06-09T00:33:19.034Z"
   },
   {
    "duration": 28,
    "start_time": "2021-06-09T00:33:19.054Z"
   },
   {
    "duration": 19,
    "start_time": "2021-06-09T00:33:19.084Z"
   },
   {
    "duration": 385,
    "start_time": "2021-06-09T00:34:11.672Z"
   },
   {
    "duration": 331,
    "start_time": "2021-06-09T00:34:16.261Z"
   },
   {
    "duration": 306,
    "start_time": "2021-06-09T00:34:26.041Z"
   },
   {
    "duration": 16,
    "start_time": "2021-06-09T00:34:35.580Z"
   },
   {
    "duration": 305,
    "start_time": "2021-06-09T00:37:02.044Z"
   },
   {
    "duration": 280,
    "start_time": "2021-06-09T00:37:13.503Z"
   },
   {
    "duration": 300,
    "start_time": "2021-06-09T00:37:21.090Z"
   },
   {
    "duration": 20,
    "start_time": "2021-06-09T00:37:41.993Z"
   },
   {
    "duration": 270,
    "start_time": "2021-06-09T00:39:29.348Z"
   },
   {
    "duration": 286,
    "start_time": "2021-06-09T00:39:41.187Z"
   },
   {
    "duration": 298,
    "start_time": "2021-06-09T00:40:05.220Z"
   },
   {
    "duration": 282,
    "start_time": "2021-06-09T00:40:17.849Z"
   },
   {
    "duration": 317,
    "start_time": "2021-06-09T00:40:29.883Z"
   },
   {
    "duration": 285,
    "start_time": "2021-06-09T00:40:34.379Z"
   },
   {
    "duration": 15,
    "start_time": "2021-06-09T00:40:42.601Z"
   },
   {
    "duration": 311,
    "start_time": "2021-06-09T00:44:29.827Z"
   },
   {
    "duration": 281,
    "start_time": "2021-06-09T00:45:30.456Z"
   },
   {
    "duration": 285,
    "start_time": "2021-06-09T00:45:49.780Z"
   },
   {
    "duration": 299,
    "start_time": "2021-06-09T00:46:30.470Z"
   },
   {
    "duration": 16,
    "start_time": "2021-06-09T00:46:46.868Z"
   },
   {
    "duration": 290,
    "start_time": "2021-06-09T00:54:32.163Z"
   },
   {
    "duration": 297,
    "start_time": "2021-06-09T00:56:39.440Z"
   },
   {
    "duration": 290,
    "start_time": "2021-06-09T00:57:19.078Z"
   },
   {
    "duration": 15,
    "start_time": "2021-06-09T00:57:47.378Z"
   },
   {
    "duration": 29,
    "start_time": "2021-06-09T01:02:34.614Z"
   },
   {
    "duration": 304,
    "start_time": "2021-06-09T01:04:01.833Z"
   },
   {
    "duration": 277,
    "start_time": "2021-06-09T01:04:24.158Z"
   },
   {
    "duration": 273,
    "start_time": "2021-06-09T01:04:49.027Z"
   },
   {
    "duration": 278,
    "start_time": "2021-06-09T01:04:55.912Z"
   },
   {
    "duration": 15,
    "start_time": "2021-06-09T01:05:10.594Z"
   },
   {
    "duration": 302,
    "start_time": "2021-06-09T01:08:38.581Z"
   },
   {
    "duration": 288,
    "start_time": "2021-06-09T01:10:04.036Z"
   },
   {
    "duration": 296,
    "start_time": "2021-06-09T01:10:14.237Z"
   },
   {
    "duration": 311,
    "start_time": "2021-06-09T01:10:32.331Z"
   },
   {
    "duration": 285,
    "start_time": "2021-06-09T01:10:39.837Z"
   },
   {
    "duration": 17,
    "start_time": "2021-06-09T01:10:44.060Z"
   },
   {
    "duration": 16,
    "start_time": "2021-06-09T01:11:22.534Z"
   },
   {
    "duration": 17,
    "start_time": "2021-06-09T01:11:32.176Z"
   },
   {
    "duration": 294,
    "start_time": "2021-06-09T01:14:00.033Z"
   },
   {
    "duration": 299,
    "start_time": "2021-06-09T01:14:23.943Z"
   },
   {
    "duration": 270,
    "start_time": "2021-06-09T01:14:34.515Z"
   },
   {
    "duration": 18,
    "start_time": "2021-06-09T01:14:47.487Z"
   },
   {
    "duration": 273,
    "start_time": "2021-06-09T01:15:42.386Z"
   },
   {
    "duration": 18,
    "start_time": "2021-06-09T01:16:19.414Z"
   },
   {
    "duration": 17,
    "start_time": "2021-06-09T01:16:54.666Z"
   },
   {
    "duration": 2931,
    "start_time": "2021-06-09T01:18:57.286Z"
   },
   {
    "duration": 819,
    "start_time": "2021-06-09T01:19:00.220Z"
   },
   {
    "duration": 46,
    "start_time": "2021-06-09T01:19:01.042Z"
   },
   {
    "duration": 14,
    "start_time": "2021-06-09T01:19:01.091Z"
   },
   {
    "duration": 22,
    "start_time": "2021-06-09T01:19:01.107Z"
   },
   {
    "duration": 14,
    "start_time": "2021-06-09T01:19:01.131Z"
   },
   {
    "duration": 16,
    "start_time": "2021-06-09T01:19:01.147Z"
   },
   {
    "duration": 16,
    "start_time": "2021-06-09T01:19:01.166Z"
   },
   {
    "duration": 55,
    "start_time": "2021-06-09T01:19:01.184Z"
   },
   {
    "duration": 15,
    "start_time": "2021-06-09T01:19:01.241Z"
   },
   {
    "duration": 22,
    "start_time": "2021-06-09T01:19:01.259Z"
   },
   {
    "duration": 44,
    "start_time": "2021-06-09T01:19:01.285Z"
   },
   {
    "duration": 17,
    "start_time": "2021-06-09T01:19:01.332Z"
   },
   {
    "duration": 16,
    "start_time": "2021-06-09T01:19:59.288Z"
   },
   {
    "duration": 3063,
    "start_time": "2021-06-09T01:20:18.797Z"
   },
   {
    "duration": 870,
    "start_time": "2021-06-09T01:20:21.863Z"
   },
   {
    "duration": 48,
    "start_time": "2021-06-09T01:20:22.736Z"
   },
   {
    "duration": 15,
    "start_time": "2021-06-09T01:20:22.786Z"
   },
   {
    "duration": 22,
    "start_time": "2021-06-09T01:20:22.804Z"
   },
   {
    "duration": 17,
    "start_time": "2021-06-09T01:20:22.828Z"
   },
   {
    "duration": 15,
    "start_time": "2021-06-09T01:20:22.847Z"
   },
   {
    "duration": 12,
    "start_time": "2021-06-09T01:20:22.865Z"
   },
   {
    "duration": 34,
    "start_time": "2021-06-09T01:20:22.901Z"
   },
   {
    "duration": 14,
    "start_time": "2021-06-09T01:20:22.938Z"
   },
   {
    "duration": 19,
    "start_time": "2021-06-09T01:20:22.954Z"
   },
   {
    "duration": 28,
    "start_time": "2021-06-09T01:20:22.976Z"
   },
   {
    "duration": 16,
    "start_time": "2021-06-09T01:20:23.007Z"
   },
   {
    "duration": 2927,
    "start_time": "2021-06-09T01:21:25.662Z"
   },
   {
    "duration": 820,
    "start_time": "2021-06-09T01:21:28.593Z"
   },
   {
    "duration": 43,
    "start_time": "2021-06-09T01:21:29.416Z"
   },
   {
    "duration": 14,
    "start_time": "2021-06-09T01:21:29.462Z"
   },
   {
    "duration": 25,
    "start_time": "2021-06-09T01:21:29.479Z"
   },
   {
    "duration": 15,
    "start_time": "2021-06-09T01:21:29.507Z"
   },
   {
    "duration": 15,
    "start_time": "2021-06-09T01:21:29.524Z"
   },
   {
    "duration": 12,
    "start_time": "2021-06-09T01:21:29.542Z"
   },
   {
    "duration": 51,
    "start_time": "2021-06-09T01:21:29.557Z"
   },
   {
    "duration": 15,
    "start_time": "2021-06-09T01:21:29.610Z"
   },
   {
    "duration": 19,
    "start_time": "2021-06-09T01:21:29.627Z"
   },
   {
    "duration": 31,
    "start_time": "2021-06-09T01:21:29.648Z"
   },
   {
    "duration": 21,
    "start_time": "2021-06-09T01:21:29.681Z"
   }
  ],
  "kernelspec": {
   "display_name": "Python 3",
   "language": "python",
   "name": "python3"
  },
  "language_info": {
   "codemirror_mode": {
    "name": "ipython",
    "version": 3
   },
   "file_extension": ".py",
   "mimetype": "text/x-python",
   "name": "python",
   "nbconvert_exporter": "python",
   "pygments_lexer": "ipython3",
   "version": "3.7.8"
  },
  "toc": {
   "base_numbering": 1,
   "nav_menu": {},
   "number_sections": false,
   "sideBar": true,
   "skip_h1_title": true,
   "title_cell": "Table of Contents",
   "title_sidebar": "Contents",
   "toc_cell": false,
   "toc_position": {},
   "toc_section_display": true,
   "toc_window_display": true
  }
 },
 "nbformat": 4,
 "nbformat_minor": 4
}
